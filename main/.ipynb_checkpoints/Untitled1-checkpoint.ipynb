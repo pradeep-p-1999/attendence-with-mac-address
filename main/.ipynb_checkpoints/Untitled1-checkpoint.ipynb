{
 "cells": [
  {
   "cell_type": "code",
   "execution_count": 106,
   "metadata": {},
   "outputs": [],
   "source": [
    "from datetime import date\n",
    "today = date.today()"
   ]
  },
  {
   "cell_type": "code",
   "execution_count": 107,
   "metadata": {},
   "outputs": [
    {
     "name": "stdout",
     "output_type": "stream",
     "text": [
      "['rex', 'rohit']\n"
     ]
    }
   ],
   "source": [
    "import pandas as pd\n",
    "\n",
    "test_x='test1.csv'\n",
    "check_x='check.csv'\n",
    "\n",
    "test_df=pd.read_csv(test_x,header=0,encoding = 'unicode_escape')\n",
    "check_df=pd.read_csv(check_x,header=0,encoding = 'unicode_escape')\n",
    "\n",
    "x_df = ((test_df[test_df['Ping'] != '[n/a]' ])) \n",
    "\n",
    "xx_df=x_df.reset_index(drop=True)\n",
    "\n",
    "xxx_df=xx_df.join(check_df)\n",
    "\n",
    "xxx_dfx=xxx_df\n",
    "\n",
    "xxx_dfx=xxx_dfx.dropna()\n",
    "\n",
    "\n",
    "s=xxx_dfx['mac_adres']\n",
    "s=len(s)\n",
    "s=s\n",
    "d=xxx_df['MAC Address']\n",
    "d=len(d)\n",
    "d=d-1\n",
    "col_name=['names']\n",
    "x_c=pd.DataFrame(columns=col_name)\n",
    "\n",
    "fg=[]\n",
    "for i in range(s):\n",
    "    for j in range(d):\n",
    "        a =  xxx_df.iloc[i]['mac_adres'] == xxx_df.iloc[j]['MAC Address']\n",
    "        \n",
    "        if a == True:\n",
    "            b=xxx_dfx.iloc[i]['stud_name']\n",
    "            fg.append(b)\n",
    "print(fg)\n"
   ]
  },
  {
   "cell_type": "code",
   "execution_count": 108,
   "metadata": {},
   "outputs": [],
   "source": [
    "atd_name='atd_name.csv'\n",
    "name_df=pd.read_csv(atd_name,header=0,encoding = 'unicode_escape')"
   ]
  },
  {
   "cell_type": "code",
   "execution_count": 109,
   "metadata": {},
   "outputs": [],
   "source": [
    "f=name_df['names']\n",
    "f=len(f)\n",
    "f=f\n",
    "h=len(fg)\n",
    "\n"
   ]
  },
  {
   "cell_type": "code",
   "execution_count": 110,
   "metadata": {},
   "outputs": [],
   "source": [
    "x_c['names_fg']=fg"
   ]
  },
  {
   "cell_type": "code",
   "execution_count": 111,
   "metadata": {},
   "outputs": [],
   "source": [
    "l=[]\n",
    "for i in range(f):\n",
    "    count=0\n",
    "    for j in range(h):\n",
    "        a= name_df.iloc[i]['names'] == x_c.iloc[j]['names_fg']\n",
    "        if a == True:\n",
    "            count=count+1\n",
    "    if count ==1:\n",
    "        l.append('p')\n",
    "        \n",
    "    else:\n",
    "        l.append('ab')\n",
    "                \n",
    "            "
   ]
  },
  {
   "cell_type": "code",
   "execution_count": 125,
   "metadata": {},
   "outputs": [],
   "source": [
    "\n",
    "name_df[today]=l\n"
   ]
  },
  {
   "cell_type": "code",
   "execution_count": 126,
   "metadata": {},
   "outputs": [],
   "source": [
    "final=name_df"
   ]
  },
  {
   "cell_type": "code",
   "execution_count": null,
   "metadata": {},
   "outputs": [],
   "source": []
  },
  {
   "cell_type": "code",
   "execution_count": 127,
   "metadata": {},
   "outputs": [],
   "source": [
    "final.to_excel(r'attendence_mac.xlsx')"
   ]
  },
  {
   "cell_type": "code",
   "execution_count": null,
   "metadata": {},
   "outputs": [],
   "source": []
  }
 ],
 "metadata": {
  "kernelspec": {
   "display_name": "Python 3",
   "language": "python",
   "name": "python3"
  },
  "language_info": {
   "codemirror_mode": {
    "name": "ipython",
    "version": 3
   },
   "file_extension": ".py",
   "mimetype": "text/x-python",
   "name": "python",
   "nbconvert_exporter": "python",
   "pygments_lexer": "ipython3",
   "version": "3.7.3"
  }
 },
 "nbformat": 4,
 "nbformat_minor": 2
}
